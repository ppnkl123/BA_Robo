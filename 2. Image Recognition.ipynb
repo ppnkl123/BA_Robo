{
 "cells": [
  {
   "cell_type": "markdown",
   "id": "a0deb76f",
   "metadata": {},
   "source": [
    "# Image Recognition"
   ]
  },
  {
   "cell_type": "markdown",
   "id": "975a44db-ab37-4101-9999-5cd2acc6dc60",
   "metadata": {
    "tags": []
   },
   "source": [
    "# This needs to be run once for main.py to run smoothly"
   ]
  },
  {
   "cell_type": "code",
   "execution_count": 1,
   "id": "3f7d44e0",
   "metadata": {},
   "outputs": [],
   "source": [
    "import os"
   ]
  },
  {
   "cell_type": "code",
   "execution_count": 2,
   "id": "ed73e514",
   "metadata": {},
   "outputs": [],
   "source": [
    "import matplotlib.pyplot as plt"
   ]
  },
  {
   "cell_type": "code",
   "execution_count": 11,
   "id": "ac07bec2",
   "metadata": {},
   "outputs": [
    {
     "data": {
      "text/plain": [
       "<BarContainer object of 4 artists>"
      ]
     },
     "execution_count": 11,
     "metadata": {},
     "output_type": "execute_result"
    },
    {
     "data": {
      "image/png": "[encoded data removed]",
      "text/plain": [
       "<Figure size 432x288 with 1 Axes>"
      ]
     },
     "metadata": {
      "needs_background": "light"
     },
     "output_type": "display_data"
    }
   ],
   "source": [
    "animals = {\n",
    "'elephant': 15,\n",
    "'lion': 25,\n",
    "'shark': 4,\n",
    "'monkey': 12\n",
    "}\n",
    "x = animals.keys()\n",
    "y = animals.values()\n",
    "\n",
    "plt.bar(x,y)"
   ]
  },
  {
   "cell_type": "code",
   "execution_count": 3,
   "id": "1a372746",
   "metadata": {},
   "outputs": [],
   "source": [
    "import imageai"
   ]
  },
  {
   "cell_type": "code",
   "execution_count": 4,
   "id": "0a725e77",
   "metadata": {},
   "outputs": [],
   "source": [
    "from imageai.Detection import ObjectDetection"
   ]
  },
  {
   "cell_type": "code",
   "execution_count": 6,
   "id": "31bfd39e",
   "metadata": {},
   "outputs": [
    {
     "name": "stdout",
     "output_type": "stream",
     "text": [
      "WARNING:tensorflow:No training configuration found in the save file, so the model was *not* compiled. Compile it manually.\n",
      "car  :  82.452392578125\n",
      "car\n"
     ]
    }
   ],
   "source": [
    "execution_path = os.getcwd()\n",
    "\n",
    "detector = ObjectDetection()\n",
    "detector = ObjectDetection()\n",
    "detector.setModelTypeAsRetinaNet()\n",
    "detector.setModelPath( os.path.join(execution_path , \"resnet50_coco_best_v2.1.0.h5\"))\n",
    "detector.loadModel()\n",
    "detections = detector.detectObjectsFromImage(input_image=os.path.join(execution_path , \"image.jpg\"), output_image_path=os.path.join(execution_path , \"imagenew.jpg\"))\n",
    "\n",
    "for eachObject in detections:\n",
    "    print(eachObject[\"name\"] , \" : \" , eachObject[\"percentage_probability\"] )\n",
    "    detectedObjName = eachObject[\"name\"]\n",
    "    print(detectedObjName)"
   ]
  },
  {
   "cell_type": "code",
   "execution_count": null,
   "id": "dd3e196c",
   "metadata": {},
   "outputs": [],
   "source": []
  }
 ],
 "metadata": {
  "kernelspec": {
   "display_name": "ver7irve",
   "language": "python",
   "name": "ver7irve"
  },
  "language_info": {
   "codemirror_mode": {
    "name": "ipython",
    "version": 3
   },
   "file_extension": ".py",
   "mimetype": "text/x-python",
   "name": "python",
   "nbconvert_exporter": "python",
   "pygments_lexer": "ipython3",
   "version": "3.8.0"
  }
 },
 "nbformat": 4,
 "nbformat_minor": 5
}
