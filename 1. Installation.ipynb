{
 "cells": [
  {
   "cell_type": "markdown",
   "id": "a3cc961a",
   "metadata": {
    "tags": []
   },
   "source": [
    "# Installation"
   ]
  },
  {
   "cell_type": "code",
   "execution_count": 1,
   "id": "a6141e51",
   "metadata": {},
   "outputs": [
    {
     "name": "stdout",
     "output_type": "stream",
     "text": [
      "Requirement already satisfied: tensorflow==2.4.0 in c:\\users\\anna\\anaconda3\\envs\\ver7irve\\lib\\site-packages (2.4.0)\n",
      "Requirement already satisfied: astunparse~=1.6.3 in c:\\users\\anna\\anaconda3\\envs\\ver7irve\\lib\\site-packages (from tensorflow==2.4.0) (1.6.3)\n",
      "Requirement already satisfied: absl-py~=0.10 in c:\\users\\anna\\anaconda3\\envs\\ver7irve\\lib\\site-packages (from tensorflow==2.4.0) (0.15.0)\n",
      "Requirement already satisfied: google-pasta~=0.2 in c:\\users\\anna\\anaconda3\\envs\\ver7irve\\lib\\site-packages (from tensorflow==2.4.0) (0.2.0)\n",
      "Requirement already satisfied: wheel~=0.35 in c:\\users\\anna\\anaconda3\\envs\\ver7irve\\lib\\site-packages (from tensorflow==2.4.0) (0.37.1)\n",
      "Requirement already satisfied: termcolor~=1.1.0 in c:\\users\\anna\\anaconda3\\envs\\ver7irve\\lib\\site-packages (from tensorflow==2.4.0) (1.1.0)\n",
      "Requirement already satisfied: flatbuffers~=1.12.0 in c:\\users\\anna\\anaconda3\\envs\\ver7irve\\lib\\site-packages (from tensorflow==2.4.0) (1.12)\n",
      "Requirement already satisfied: tensorflow-estimator<2.5.0,>=2.4.0rc0 in c:\\users\\anna\\anaconda3\\envs\\ver7irve\\lib\\site-packages (from tensorflow==2.4.0) (2.4.0)\n",
      "Requirement already satisfied: protobuf>=3.9.2 in c:\\users\\anna\\anaconda3\\envs\\ver7irve\\lib\\site-packages (from tensorflow==2.4.0) (3.20.1)\n",
      "Requirement already satisfied: grpcio~=1.32.0 in c:\\users\\anna\\anaconda3\\envs\\ver7irve\\lib\\site-packages (from tensorflow==2.4.0) (1.32.0)\n",
      "Requirement already satisfied: gast==0.3.3 in c:\\users\\anna\\anaconda3\\envs\\ver7irve\\lib\\site-packages (from tensorflow==2.4.0) (0.3.3)\n",
      "Requirement already satisfied: keras-preprocessing~=1.1.2 in c:\\users\\anna\\anaconda3\\envs\\ver7irve\\lib\\site-packages (from tensorflow==2.4.0) (1.1.2)\n",
      "Requirement already satisfied: opt-einsum~=3.3.0 in c:\\users\\anna\\anaconda3\\envs\\ver7irve\\lib\\site-packages (from tensorflow==2.4.0) (3.3.0)\n",
      "Requirement already satisfied: typing-extensions~=3.7.4 in c:\\users\\anna\\anaconda3\\envs\\ver7irve\\lib\\site-packages (from tensorflow==2.4.0) (3.7.4.3)\n",
      "Requirement already satisfied: six~=1.15.0 in c:\\users\\anna\\anaconda3\\envs\\ver7irve\\lib\\site-packages (from tensorflow==2.4.0) (1.15.0)\n",
      "Requirement already satisfied: wrapt~=1.12.1 in c:\\users\\anna\\anaconda3\\envs\\ver7irve\\lib\\site-packages (from tensorflow==2.4.0) (1.12.1)\n",
      "Requirement already satisfied: h5py~=2.10.0 in c:\\users\\anna\\anaconda3\\envs\\ver7irve\\lib\\site-packages (from tensorflow==2.4.0) (2.10.0)\n",
      "Requirement already satisfied: tensorboard~=2.4 in c:\\users\\anna\\anaconda3\\envs\\ver7irve\\lib\\site-packages (from tensorflow==2.4.0) (2.9.0)\n",
      "Requirement already satisfied: numpy~=1.19.2 in c:\\users\\anna\\anaconda3\\envs\\ver7irve\\lib\\site-packages (from tensorflow==2.4.0) (1.19.3)\n",
      "Requirement already satisfied: requests<3,>=2.21.0 in c:\\users\\anna\\anaconda3\\envs\\ver7irve\\lib\\site-packages (from tensorboard~=2.4->tensorflow==2.4.0) (2.27.1)\n",
      "Requirement already satisfied: tensorboard-data-server<0.7.0,>=0.6.0 in c:\\users\\anna\\anaconda3\\envs\\ver7irve\\lib\\site-packages (from tensorboard~=2.4->tensorflow==2.4.0) (0.6.1)\n",
      "Requirement already satisfied: setuptools>=41.0.0 in c:\\users\\anna\\anaconda3\\envs\\ver7irve\\lib\\site-packages (from tensorboard~=2.4->tensorflow==2.4.0) (61.2.0)\n",
      "Requirement already satisfied: google-auth<3,>=1.6.3 in c:\\users\\anna\\anaconda3\\envs\\ver7irve\\lib\\site-packages (from tensorboard~=2.4->tensorflow==2.4.0) (2.6.6)\n",
      "Requirement already satisfied: markdown>=2.6.8 in c:\\users\\anna\\anaconda3\\envs\\ver7irve\\lib\\site-packages (from tensorboard~=2.4->tensorflow==2.4.0) (3.3.7)\n",
      "Requirement already satisfied: google-auth-oauthlib<0.5,>=0.4.1 in c:\\users\\anna\\anaconda3\\envs\\ver7irve\\lib\\site-packages (from tensorboard~=2.4->tensorflow==2.4.0) (0.4.6)\n",
      "Requirement already satisfied: werkzeug>=1.0.1 in c:\\users\\anna\\anaconda3\\envs\\ver7irve\\lib\\site-packages (from tensorboard~=2.4->tensorflow==2.4.0) (2.1.2)\n",
      "Requirement already satisfied: tensorboard-plugin-wit>=1.6.0 in c:\\users\\anna\\anaconda3\\envs\\ver7irve\\lib\\site-packages (from tensorboard~=2.4->tensorflow==2.4.0) (1.8.1)\n",
      "Requirement already satisfied: rsa<5,>=3.1.4 in c:\\users\\anna\\anaconda3\\envs\\ver7irve\\lib\\site-packages (from google-auth<3,>=1.6.3->tensorboard~=2.4->tensorflow==2.4.0) (4.8)\n",
      "Requirement already satisfied: pyasn1-modules>=0.2.1 in c:\\users\\anna\\anaconda3\\envs\\ver7irve\\lib\\site-packages (from google-auth<3,>=1.6.3->tensorboard~=2.4->tensorflow==2.4.0) (0.2.8)\n",
      "Requirement already satisfied: cachetools<6.0,>=2.0.0 in c:\\users\\anna\\anaconda3\\envs\\ver7irve\\lib\\site-packages (from google-auth<3,>=1.6.3->tensorboard~=2.4->tensorflow==2.4.0) (5.0.0)\n",
      "Requirement already satisfied: requests-oauthlib>=0.7.0 in c:\\users\\anna\\anaconda3\\envs\\ver7irve\\lib\\site-packages (from google-auth-oauthlib<0.5,>=0.4.1->tensorboard~=2.4->tensorflow==2.4.0) (1.3.1)\n",
      "Requirement already satisfied: importlib-metadata>=4.4 in c:\\users\\anna\\anaconda3\\envs\\ver7irve\\lib\\site-packages (from markdown>=2.6.8->tensorboard~=2.4->tensorflow==2.4.0) (4.11.3)\n",
      "Requirement already satisfied: certifi>=2017.4.17 in c:\\users\\anna\\anaconda3\\envs\\ver7irve\\lib\\site-packages (from requests<3,>=2.21.0->tensorboard~=2.4->tensorflow==2.4.0) (2021.10.8)\n",
      "Requirement already satisfied: charset-normalizer~=2.0.0 in c:\\users\\anna\\anaconda3\\envs\\ver7irve\\lib\\site-packages (from requests<3,>=2.21.0->tensorboard~=2.4->tensorflow==2.4.0) (2.0.12)\n",
      "Requirement already satisfied: idna<4,>=2.5 in c:\\users\\anna\\anaconda3\\envs\\ver7irve\\lib\\site-packages (from requests<3,>=2.21.0->tensorboard~=2.4->tensorflow==2.4.0) (3.3)\n",
      "Requirement already satisfied: urllib3<1.27,>=1.21.1 in c:\\users\\anna\\anaconda3\\envs\\ver7irve\\lib\\site-packages (from requests<3,>=2.21.0->tensorboard~=2.4->tensorflow==2.4.0) (1.26.9)\n",
      "Requirement already satisfied: zipp>=0.5 in c:\\users\\anna\\anaconda3\\envs\\ver7irve\\lib\\site-packages (from importlib-metadata>=4.4->markdown>=2.6.8->tensorboard~=2.4->tensorflow==2.4.0) (3.8.0)\n",
      "Requirement already satisfied: pyasn1<0.5.0,>=0.4.6 in c:\\users\\anna\\anaconda3\\envs\\ver7irve\\lib\\site-packages (from pyasn1-modules>=0.2.1->google-auth<3,>=1.6.3->tensorboard~=2.4->tensorflow==2.4.0) (0.4.8)\n",
      "Requirement already satisfied: oauthlib>=3.0.0 in c:\\users\\anna\\anaconda3\\envs\\ver7irve\\lib\\site-packages (from requests-oauthlib>=0.7.0->google-auth-oauthlib<0.5,>=0.4.1->tensorboard~=2.4->tensorflow==2.4.0) (3.2.0)\n"
     ]
    }
   ],
   "source": [
    "!pip install tensorflow==2.4.0"
   ]
  },
  {
   "cell_type": "code",
   "execution_count": 2,
   "id": "acfdbc87-400e-4977-9f4f-c966d2f21bb8",
   "metadata": {},
   "outputs": [
    {
     "name": "stdout",
     "output_type": "stream",
     "text": [
      "Requirement already satisfied: eel in c:\\users\\anna\\anaconda3\\envs\\ver7irve\\lib\\site-packages (0.14.0)\n",
      "Requirement already satisfied: whichcraft in c:\\users\\anna\\anaconda3\\envs\\ver7irve\\lib\\site-packages (from eel) (0.6.1)\n",
      "Requirement already satisfied: bottle-websocket in c:\\users\\anna\\anaconda3\\envs\\ver7irve\\lib\\site-packages (from eel) (0.2.9)\n",
      "Requirement already satisfied: bottle in c:\\users\\anna\\anaconda3\\envs\\ver7irve\\lib\\site-packages (from eel) (0.12.19)\n",
      "Requirement already satisfied: pyparsing in c:\\users\\anna\\anaconda3\\envs\\ver7irve\\lib\\site-packages (from eel) (3.0.9)\n",
      "Requirement already satisfied: future in c:\\users\\anna\\anaconda3\\envs\\ver7irve\\lib\\site-packages (from eel) (0.18.2)\n",
      "Requirement already satisfied: gevent-websocket in c:\\users\\anna\\anaconda3\\envs\\ver7irve\\lib\\site-packages (from bottle-websocket->eel) (0.10.1)\n",
      "Requirement already satisfied: gevent in c:\\users\\anna\\anaconda3\\envs\\ver7irve\\lib\\site-packages (from gevent-websocket->bottle-websocket->eel) (21.12.0)\n",
      "Requirement already satisfied: zope.interface in c:\\users\\anna\\anaconda3\\envs\\ver7irve\\lib\\site-packages (from gevent->gevent-websocket->bottle-websocket->eel) (5.4.0)\n",
      "Requirement already satisfied: setuptools in c:\\users\\anna\\anaconda3\\envs\\ver7irve\\lib\\site-packages (from gevent->gevent-websocket->bottle-websocket->eel) (61.2.0)\n",
      "Requirement already satisfied: greenlet<2.0,>=1.1.0 in c:\\users\\anna\\anaconda3\\envs\\ver7irve\\lib\\site-packages (from gevent->gevent-websocket->bottle-websocket->eel) (1.1.2)\n",
      "Requirement already satisfied: zope.event in c:\\users\\anna\\anaconda3\\envs\\ver7irve\\lib\\site-packages (from gevent->gevent-websocket->bottle-websocket->eel) (4.5.0)\n",
      "Requirement already satisfied: cffi>=1.12.2 in c:\\users\\anna\\anaconda3\\envs\\ver7irve\\lib\\site-packages (from gevent->gevent-websocket->bottle-websocket->eel) (1.15.0)\n",
      "Requirement already satisfied: pycparser in c:\\users\\anna\\anaconda3\\envs\\ver7irve\\lib\\site-packages (from cffi>=1.12.2->gevent->gevent-websocket->bottle-websocket->eel) (2.21)\n"
     ]
    }
   ],
   "source": [
    "!pip install eel"
   ]
  },
  {
   "cell_type": "code",
   "execution_count": 3,
   "id": "421e98a9",
   "metadata": {},
   "outputs": [
    {
     "name": "stdout",
     "output_type": "stream",
     "text": [
      "Requirement already satisfied: tensorflow-gpu==2.4.0 in c:\\users\\anna\\anaconda3\\envs\\ver7irve\\lib\\site-packages (2.4.0)\n",
      "Requirement already satisfied: grpcio~=1.32.0 in c:\\users\\anna\\anaconda3\\envs\\ver7irve\\lib\\site-packages (from tensorflow-gpu==2.4.0) (1.32.0)\n",
      "Requirement already satisfied: google-pasta~=0.2 in c:\\users\\anna\\anaconda3\\envs\\ver7irve\\lib\\site-packages (from tensorflow-gpu==2.4.0) (0.2.0)\n",
      "Requirement already satisfied: opt-einsum~=3.3.0 in c:\\users\\anna\\anaconda3\\envs\\ver7irve\\lib\\site-packages (from tensorflow-gpu==2.4.0) (3.3.0)\n",
      "Requirement already satisfied: tensorflow-estimator<2.5.0,>=2.4.0rc0 in c:\\users\\anna\\anaconda3\\envs\\ver7irve\\lib\\site-packages (from tensorflow-gpu==2.4.0) (2.4.0)\n",
      "Requirement already satisfied: keras-preprocessing~=1.1.2 in c:\\users\\anna\\anaconda3\\envs\\ver7irve\\lib\\site-packages (from tensorflow-gpu==2.4.0) (1.1.2)\n",
      "Requirement already satisfied: six~=1.15.0 in c:\\users\\anna\\anaconda3\\envs\\ver7irve\\lib\\site-packages (from tensorflow-gpu==2.4.0) (1.15.0)\n",
      "Requirement already satisfied: tensorboard~=2.4 in c:\\users\\anna\\anaconda3\\envs\\ver7irve\\lib\\site-packages (from tensorflow-gpu==2.4.0) (2.9.0)\n",
      "Requirement already satisfied: astunparse~=1.6.3 in c:\\users\\anna\\anaconda3\\envs\\ver7irve\\lib\\site-packages (from tensorflow-gpu==2.4.0) (1.6.3)\n",
      "Requirement already satisfied: numpy~=1.19.2 in c:\\users\\anna\\anaconda3\\envs\\ver7irve\\lib\\site-packages (from tensorflow-gpu==2.4.0) (1.19.3)\n",
      "Requirement already satisfied: termcolor~=1.1.0 in c:\\users\\anna\\anaconda3\\envs\\ver7irve\\lib\\site-packages (from tensorflow-gpu==2.4.0) (1.1.0)\n",
      "Requirement already satisfied: gast==0.3.3 in c:\\users\\anna\\anaconda3\\envs\\ver7irve\\lib\\site-packages (from tensorflow-gpu==2.4.0) (0.3.3)\n",
      "Requirement already satisfied: protobuf>=3.9.2 in c:\\users\\anna\\anaconda3\\envs\\ver7irve\\lib\\site-packages (from tensorflow-gpu==2.4.0) (3.20.1)\n",
      "Requirement already satisfied: absl-py~=0.10 in c:\\users\\anna\\anaconda3\\envs\\ver7irve\\lib\\site-packages (from tensorflow-gpu==2.4.0) (0.15.0)\n",
      "Requirement already satisfied: wrapt~=1.12.1 in c:\\users\\anna\\anaconda3\\envs\\ver7irve\\lib\\site-packages (from tensorflow-gpu==2.4.0) (1.12.1)\n",
      "Requirement already satisfied: wheel~=0.35 in c:\\users\\anna\\anaconda3\\envs\\ver7irve\\lib\\site-packages (from tensorflow-gpu==2.4.0) (0.37.1)\n",
      "Requirement already satisfied: flatbuffers~=1.12.0 in c:\\users\\anna\\anaconda3\\envs\\ver7irve\\lib\\site-packages (from tensorflow-gpu==2.4.0) (1.12)\n",
      "Requirement already satisfied: typing-extensions~=3.7.4 in c:\\users\\anna\\anaconda3\\envs\\ver7irve\\lib\\site-packages (from tensorflow-gpu==2.4.0) (3.7.4.3)\n",
      "Requirement already satisfied: h5py~=2.10.0 in c:\\users\\anna\\anaconda3\\envs\\ver7irve\\lib\\site-packages (from tensorflow-gpu==2.4.0) (2.10.0)\n",
      "Requirement already satisfied: setuptools>=41.0.0 in c:\\users\\anna\\anaconda3\\envs\\ver7irve\\lib\\site-packages (from tensorboard~=2.4->tensorflow-gpu==2.4.0) (61.2.0)\n",
      "Requirement already satisfied: werkzeug>=1.0.1 in c:\\users\\anna\\anaconda3\\envs\\ver7irve\\lib\\site-packages (from tensorboard~=2.4->tensorflow-gpu==2.4.0) (2.1.2)\n",
      "Requirement already satisfied: google-auth<3,>=1.6.3 in c:\\users\\anna\\anaconda3\\envs\\ver7irve\\lib\\site-packages (from tensorboard~=2.4->tensorflow-gpu==2.4.0) (2.6.6)\n",
      "Requirement already satisfied: tensorboard-data-server<0.7.0,>=0.6.0 in c:\\users\\anna\\anaconda3\\envs\\ver7irve\\lib\\site-packages (from tensorboard~=2.4->tensorflow-gpu==2.4.0) (0.6.1)\n",
      "Requirement already satisfied: google-auth-oauthlib<0.5,>=0.4.1 in c:\\users\\anna\\anaconda3\\envs\\ver7irve\\lib\\site-packages (from tensorboard~=2.4->tensorflow-gpu==2.4.0) (0.4.6)\n",
      "Requirement already satisfied: requests<3,>=2.21.0 in c:\\users\\anna\\anaconda3\\envs\\ver7irve\\lib\\site-packages (from tensorboard~=2.4->tensorflow-gpu==2.4.0) (2.27.1)\n",
      "Requirement already satisfied: tensorboard-plugin-wit>=1.6.0 in c:\\users\\anna\\anaconda3\\envs\\ver7irve\\lib\\site-packages (from tensorboard~=2.4->tensorflow-gpu==2.4.0) (1.8.1)\n",
      "Requirement already satisfied: markdown>=2.6.8 in c:\\users\\anna\\anaconda3\\envs\\ver7irve\\lib\\site-packages (from tensorboard~=2.4->tensorflow-gpu==2.4.0) (3.3.7)\n",
      "Requirement already satisfied: cachetools<6.0,>=2.0.0 in c:\\users\\anna\\anaconda3\\envs\\ver7irve\\lib\\site-packages (from google-auth<3,>=1.6.3->tensorboard~=2.4->tensorflow-gpu==2.4.0) (5.0.0)\n",
      "Requirement already satisfied: pyasn1-modules>=0.2.1 in c:\\users\\anna\\anaconda3\\envs\\ver7irve\\lib\\site-packages (from google-auth<3,>=1.6.3->tensorboard~=2.4->tensorflow-gpu==2.4.0) (0.2.8)\n",
      "Requirement already satisfied: rsa<5,>=3.1.4 in c:\\users\\anna\\anaconda3\\envs\\ver7irve\\lib\\site-packages (from google-auth<3,>=1.6.3->tensorboard~=2.4->tensorflow-gpu==2.4.0) (4.8)\n",
      "Requirement already satisfied: requests-oauthlib>=0.7.0 in c:\\users\\anna\\anaconda3\\envs\\ver7irve\\lib\\site-packages (from google-auth-oauthlib<0.5,>=0.4.1->tensorboard~=2.4->tensorflow-gpu==2.4.0) (1.3.1)\n",
      "Requirement already satisfied: importlib-metadata>=4.4 in c:\\users\\anna\\anaconda3\\envs\\ver7irve\\lib\\site-packages (from markdown>=2.6.8->tensorboard~=2.4->tensorflow-gpu==2.4.0) (4.11.3)\n",
      "Requirement already satisfied: idna<4,>=2.5 in c:\\users\\anna\\anaconda3\\envs\\ver7irve\\lib\\site-packages (from requests<3,>=2.21.0->tensorboard~=2.4->tensorflow-gpu==2.4.0) (3.3)\n",
      "Requirement already satisfied: charset-normalizer~=2.0.0 in c:\\users\\anna\\anaconda3\\envs\\ver7irve\\lib\\site-packages (from requests<3,>=2.21.0->tensorboard~=2.4->tensorflow-gpu==2.4.0) (2.0.12)\n",
      "Requirement already satisfied: urllib3<1.27,>=1.21.1 in c:\\users\\anna\\anaconda3\\envs\\ver7irve\\lib\\site-packages (from requests<3,>=2.21.0->tensorboard~=2.4->tensorflow-gpu==2.4.0) (1.26.9)\n",
      "Requirement already satisfied: certifi>=2017.4.17 in c:\\users\\anna\\anaconda3\\envs\\ver7irve\\lib\\site-packages (from requests<3,>=2.21.0->tensorboard~=2.4->tensorflow-gpu==2.4.0) (2021.10.8)\n",
      "Requirement already satisfied: zipp>=0.5 in c:\\users\\anna\\anaconda3\\envs\\ver7irve\\lib\\site-packages (from importlib-metadata>=4.4->markdown>=2.6.8->tensorboard~=2.4->tensorflow-gpu==2.4.0) (3.8.0)\n",
      "Requirement already satisfied: pyasn1<0.5.0,>=0.4.6 in c:\\users\\anna\\anaconda3\\envs\\ver7irve\\lib\\site-packages (from pyasn1-modules>=0.2.1->google-auth<3,>=1.6.3->tensorboard~=2.4->tensorflow-gpu==2.4.0) (0.4.8)\n",
      "Requirement already satisfied: oauthlib>=3.0.0 in c:\\users\\anna\\anaconda3\\envs\\ver7irve\\lib\\site-packages (from requests-oauthlib>=0.7.0->google-auth-oauthlib<0.5,>=0.4.1->tensorboard~=2.4->tensorflow-gpu==2.4.0) (3.2.0)\n"
     ]
    }
   ],
   "source": [
    "!pip install tensorflow-gpu==2.4.0"
   ]
  },
  {
   "cell_type": "code",
   "execution_count": 4,
   "id": "d19386d8",
   "metadata": {},
   "outputs": [
    {
     "name": "stdout",
     "output_type": "stream",
     "text": [
      "Requirement already satisfied: keras==2.4.3 in c:\\users\\anna\\anaconda3\\envs\\ver7irve\\lib\\site-packages (2.4.3)\n",
      "Requirement already satisfied: pyyaml in c:\\users\\anna\\anaconda3\\envs\\ver7irve\\lib\\site-packages (from keras==2.4.3) (6.0)\n",
      "Requirement already satisfied: h5py in c:\\users\\anna\\anaconda3\\envs\\ver7irve\\lib\\site-packages (from keras==2.4.3) (2.10.0)\n",
      "Requirement already satisfied: scipy>=0.14 in c:\\users\\anna\\anaconda3\\envs\\ver7irve\\lib\\site-packages (from keras==2.4.3) (1.4.1)\n",
      "Requirement already satisfied: numpy>=1.9.1 in c:\\users\\anna\\anaconda3\\envs\\ver7irve\\lib\\site-packages (from keras==2.4.3) (1.19.3)\n",
      "Requirement already satisfied: six in c:\\users\\anna\\anaconda3\\envs\\ver7irve\\lib\\site-packages (from h5py->keras==2.4.3) (1.15.0)\n"
     ]
    }
   ],
   "source": [
    "!pip install keras==2.4.3"
   ]
  },
  {
   "cell_type": "code",
   "execution_count": 6,
   "id": "65060183",
   "metadata": {},
   "outputs": [
    {
     "name": "stdout",
     "output_type": "stream",
     "text": [
      "Requirement already satisfied: numpy==1.19.3 in c:\\users\\anna\\anaconda3\\envs\\ver7irve\\lib\\site-packages (1.19.3)\n"
     ]
    }
   ],
   "source": [
    "!pip install numpy==1.19.3"
   ]
  },
  {
   "cell_type": "code",
   "execution_count": 7,
   "id": "35fe45c8",
   "metadata": {},
   "outputs": [
    {
     "name": "stdout",
     "output_type": "stream",
     "text": [
      "Requirement already satisfied: pillow==7.0.0 in c:\\users\\anna\\anaconda3\\envs\\ver7irve\\lib\\site-packages (7.0.0)\n"
     ]
    }
   ],
   "source": [
    "!pip install pillow==7.0.0"
   ]
  },
  {
   "cell_type": "code",
   "execution_count": 8,
   "id": "1f505323",
   "metadata": {},
   "outputs": [
    {
     "name": "stdout",
     "output_type": "stream",
     "text": [
      "Requirement already satisfied: scipy==1.4.1 in c:\\users\\anna\\anaconda3\\envs\\ver7irve\\lib\\site-packages (1.4.1)\n",
      "Requirement already satisfied: numpy>=1.13.3 in c:\\users\\anna\\anaconda3\\envs\\ver7irve\\lib\\site-packages (from scipy==1.4.1) (1.19.3)\n"
     ]
    }
   ],
   "source": [
    "!pip install scipy==1.4.1"
   ]
  },
  {
   "cell_type": "code",
   "execution_count": 9,
   "id": "52427652",
   "metadata": {},
   "outputs": [
    {
     "name": "stdout",
     "output_type": "stream",
     "text": [
      "Requirement already satisfied: h5py==2.10.0 in c:\\users\\anna\\anaconda3\\envs\\ver7irve\\lib\\site-packages (2.10.0)\n",
      "Requirement already satisfied: numpy>=1.7 in c:\\users\\anna\\anaconda3\\envs\\ver7irve\\lib\\site-packages (from h5py==2.10.0) (1.19.3)\n",
      "Requirement already satisfied: six in c:\\users\\anna\\anaconda3\\envs\\ver7irve\\lib\\site-packages (from h5py==2.10.0) (1.15.0)\n"
     ]
    }
   ],
   "source": [
    "!pip install h5py==2.10.0"
   ]
  },
  {
   "cell_type": "code",
   "execution_count": 10,
   "id": "d49ac891",
   "metadata": {},
   "outputs": [
    {
     "name": "stdout",
     "output_type": "stream",
     "text": [
      "Requirement already satisfied: matplotlib==3.3.2 in c:\\users\\anna\\anaconda3\\envs\\ver7irve\\lib\\site-packages (3.3.2)\n",
      "Requirement already satisfied: cycler>=0.10 in c:\\users\\anna\\anaconda3\\envs\\ver7irve\\lib\\site-packages (from matplotlib==3.3.2) (0.11.0)\n",
      "Requirement already satisfied: pyparsing!=2.0.4,!=2.1.2,!=2.1.6,>=2.0.3 in c:\\users\\anna\\anaconda3\\envs\\ver7irve\\lib\\site-packages (from matplotlib==3.3.2) (3.0.9)\n",
      "Requirement already satisfied: pillow>=6.2.0 in c:\\users\\anna\\anaconda3\\envs\\ver7irve\\lib\\site-packages (from matplotlib==3.3.2) (7.0.0)\n",
      "Requirement already satisfied: certifi>=2020.06.20 in c:\\users\\anna\\anaconda3\\envs\\ver7irve\\lib\\site-packages (from matplotlib==3.3.2) (2021.10.8)\n",
      "Requirement already satisfied: python-dateutil>=2.1 in c:\\users\\anna\\anaconda3\\envs\\ver7irve\\lib\\site-packages (from matplotlib==3.3.2) (2.8.2)\n",
      "Requirement already satisfied: numpy>=1.15 in c:\\users\\anna\\anaconda3\\envs\\ver7irve\\lib\\site-packages (from matplotlib==3.3.2) (1.19.3)\n",
      "Requirement already satisfied: kiwisolver>=1.0.1 in c:\\users\\anna\\anaconda3\\envs\\ver7irve\\lib\\site-packages (from matplotlib==3.3.2) (1.4.2)\n",
      "Requirement already satisfied: six>=1.5 in c:\\users\\anna\\anaconda3\\envs\\ver7irve\\lib\\site-packages (from python-dateutil>=2.1->matplotlib==3.3.2) (1.15.0)\n"
     ]
    }
   ],
   "source": [
    "!pip install matplotlib==3.3.2"
   ]
  },
  {
   "cell_type": "code",
   "execution_count": 11,
   "id": "9257cd1c",
   "metadata": {},
   "outputs": [
    {
     "name": "stdout",
     "output_type": "stream",
     "text": [
      "Requirement already satisfied: opencv-python in c:\\users\\anna\\anaconda3\\envs\\ver7irve\\lib\\site-packages (4.5.5.64)\n",
      "Requirement already satisfied: numpy>=1.17.3 in c:\\users\\anna\\anaconda3\\envs\\ver7irve\\lib\\site-packages (from opencv-python) (1.19.3)\n"
     ]
    }
   ],
   "source": [
    "!pip install opencv-python"
   ]
  },
  {
   "cell_type": "code",
   "execution_count": 12,
   "id": "03301587",
   "metadata": {},
   "outputs": [
    {
     "name": "stdout",
     "output_type": "stream",
     "text": [
      "Requirement already satisfied: keras-resnet==0.2.0 in c:\\users\\anna\\anaconda3\\envs\\ver7irve\\lib\\site-packages (0.2.0)\n",
      "Requirement already satisfied: keras>=2.2.4 in c:\\users\\anna\\anaconda3\\envs\\ver7irve\\lib\\site-packages (from keras-resnet==0.2.0) (2.4.3)\n",
      "Requirement already satisfied: numpy>=1.9.1 in c:\\users\\anna\\anaconda3\\envs\\ver7irve\\lib\\site-packages (from keras>=2.2.4->keras-resnet==0.2.0) (1.19.3)\n",
      "Requirement already satisfied: scipy>=0.14 in c:\\users\\anna\\anaconda3\\envs\\ver7irve\\lib\\site-packages (from keras>=2.2.4->keras-resnet==0.2.0) (1.4.1)\n",
      "Requirement already satisfied: h5py in c:\\users\\anna\\anaconda3\\envs\\ver7irve\\lib\\site-packages (from keras>=2.2.4->keras-resnet==0.2.0) (2.10.0)\n",
      "Requirement already satisfied: pyyaml in c:\\users\\anna\\anaconda3\\envs\\ver7irve\\lib\\site-packages (from keras>=2.2.4->keras-resnet==0.2.0) (6.0)\n",
      "Requirement already satisfied: six in c:\\users\\anna\\anaconda3\\envs\\ver7irve\\lib\\site-packages (from h5py->keras>=2.2.4->keras-resnet==0.2.0) (1.15.0)\n"
     ]
    }
   ],
   "source": [
    "!pip install keras-resnet==0.2.0"
   ]
  },
  {
   "cell_type": "code",
   "execution_count": 13,
   "id": "9cf72635",
   "metadata": {},
   "outputs": [
    {
     "name": "stdout",
     "output_type": "stream",
     "text": [
      "Requirement already satisfied: imageai in c:\\users\\anna\\anaconda3\\envs\\ver7irve\\lib\\site-packages (2.1.6)\n",
      "Requirement already satisfied: numpy==1.19.3 in c:\\users\\anna\\anaconda3\\envs\\ver7irve\\lib\\site-packages (from imageai) (1.19.3)\n",
      "Requirement already satisfied: scipy==1.4.1 in c:\\users\\anna\\anaconda3\\envs\\ver7irve\\lib\\site-packages (from imageai) (1.4.1)\n",
      "Requirement already satisfied: matplotlib==3.3.2 in c:\\users\\anna\\anaconda3\\envs\\ver7irve\\lib\\site-packages (from imageai) (3.3.2)\n",
      "Requirement already satisfied: opencv-python in c:\\users\\anna\\anaconda3\\envs\\ver7irve\\lib\\site-packages (from imageai) (4.5.5.64)\n",
      "Requirement already satisfied: keras-resnet==0.2.0 in c:\\users\\anna\\anaconda3\\envs\\ver7irve\\lib\\site-packages (from imageai) (0.2.0)\n",
      "Requirement already satisfied: h5py==2.10.0 in c:\\users\\anna\\anaconda3\\envs\\ver7irve\\lib\\site-packages (from imageai) (2.10.0)\n",
      "Requirement already satisfied: keras==2.4.3 in c:\\users\\anna\\anaconda3\\envs\\ver7irve\\lib\\site-packages (from imageai) (2.4.3)\n",
      "Requirement already satisfied: pillow==7.0.0 in c:\\users\\anna\\anaconda3\\envs\\ver7irve\\lib\\site-packages (from imageai) (7.0.0)\n",
      "Requirement already satisfied: six in c:\\users\\anna\\anaconda3\\envs\\ver7irve\\lib\\site-packages (from h5py==2.10.0->imageai) (1.15.0)\n",
      "Requirement already satisfied: pyyaml in c:\\users\\anna\\anaconda3\\envs\\ver7irve\\lib\\site-packages (from keras==2.4.3->imageai) (6.0)\n",
      "Requirement already satisfied: kiwisolver>=1.0.1 in c:\\users\\anna\\anaconda3\\envs\\ver7irve\\lib\\site-packages (from matplotlib==3.3.2->imageai) (1.4.2)\n",
      "Requirement already satisfied: python-dateutil>=2.1 in c:\\users\\anna\\anaconda3\\envs\\ver7irve\\lib\\site-packages (from matplotlib==3.3.2->imageai) (2.8.2)\n",
      "Requirement already satisfied: certifi>=2020.06.20 in c:\\users\\anna\\anaconda3\\envs\\ver7irve\\lib\\site-packages (from matplotlib==3.3.2->imageai) (2021.10.8)\n",
      "Requirement already satisfied: pyparsing!=2.0.4,!=2.1.2,!=2.1.6,>=2.0.3 in c:\\users\\anna\\anaconda3\\envs\\ver7irve\\lib\\site-packages (from matplotlib==3.3.2->imageai) (3.0.9)\n",
      "Requirement already satisfied: cycler>=0.10 in c:\\users\\anna\\anaconda3\\envs\\ver7irve\\lib\\site-packages (from matplotlib==3.3.2->imageai) (0.11.0)\n"
     ]
    }
   ],
   "source": [
    "!pip install imageai --upgrade"
   ]
  },
  {
   "cell_type": "code",
   "execution_count": 14,
   "id": "39f58291",
   "metadata": {},
   "outputs": [
    {
     "name": "stdout",
     "output_type": "stream",
     "text": [
      "Package                 Version\n",
      "----------------------- ---------\n",
      "absl-py                 0.15.0\n",
      "asttokens               2.0.5\n",
      "astunparse              1.6.3\n",
      "backcall                0.2.0\n",
      "bottle                  0.12.19\n",
      "bottle-websocket        0.2.9\n",
      "cachetools              5.0.0\n",
      "certifi                 2021.10.8\n",
      "cffi                    1.15.0\n",
      "charset-normalizer      2.0.12\n",
      "colorama                0.4.4\n",
      "cycler                  0.11.0\n",
      "debugpy                 1.6.0\n",
      "decorator               5.1.1\n",
      "Eel                     0.14.0\n",
      "entrypoints             0.4\n",
      "executing               0.8.3\n",
      "flatbuffers             1.12\n",
      "future                  0.18.2\n",
      "gast                    0.3.3\n",
      "gevent                  21.12.0\n",
      "gevent-websocket        0.10.1\n",
      "google-auth             2.6.6\n",
      "google-auth-oauthlib    0.4.6\n",
      "google-pasta            0.2.0\n",
      "greenlet                1.1.2\n",
      "grpcio                  1.32.0\n",
      "h5py                    2.10.0\n",
      "idna                    3.3\n",
      "imageai                 2.1.6\n",
      "importlib-metadata      4.11.3\n",
      "ipykernel               6.13.0\n",
      "ipython                 8.3.0\n",
      "jedi                    0.18.1\n",
      "jupyter-client          7.3.1\n",
      "jupyter-core            4.10.0\n",
      "Keras                   2.4.3\n",
      "Keras-Preprocessing     1.1.2\n",
      "keras-resnet            0.2.0\n",
      "kiwisolver              1.4.2\n",
      "Markdown                3.3.7\n",
      "matplotlib              3.3.2\n",
      "matplotlib-inline       0.1.3\n",
      "nest-asyncio            1.5.5\n",
      "numpy                   1.19.3\n",
      "oauthlib                3.2.0\n",
      "opencv-python           4.5.5.64\n",
      "opt-einsum              3.3.0\n",
      "packaging               21.3\n",
      "parso                   0.8.3\n",
      "pickleshare             0.7.5\n",
      "Pillow                  7.0.0\n",
      "pip                     22.1\n",
      "prompt-toolkit          3.0.29\n",
      "protobuf                3.20.1\n",
      "psutil                  5.9.0\n",
      "pure-eval               0.2.2\n",
      "pyasn1                  0.4.8\n",
      "pyasn1-modules          0.2.8\n",
      "pycparser               2.21\n",
      "Pygments                2.12.0\n",
      "pyparsing               3.0.9\n",
      "python-dateutil         2.8.2\n",
      "pywin32                 304\n",
      "PyYAML                  6.0\n",
      "pyzmq                   22.3.0\n",
      "requests                2.27.1\n",
      "requests-oauthlib       1.3.1\n",
      "rsa                     4.8\n",
      "scipy                   1.4.1\n",
      "setuptools              61.2.0\n",
      "six                     1.15.0\n",
      "stack-data              0.2.0\n",
      "tensorboard             2.9.0\n",
      "tensorboard-data-server 0.6.1\n",
      "tensorboard-plugin-wit  1.8.1\n",
      "tensorflow              2.4.0\n",
      "tensorflow-estimator    2.4.0\n",
      "tensorflow-gpu          2.4.0\n",
      "termcolor               1.1.0\n",
      "tornado                 6.1\n",
      "traitlets               5.2.0\n",
      "typing-extensions       3.7.4.3\n",
      "urllib3                 1.26.9\n",
      "wcwidth                 0.2.5\n",
      "Werkzeug                2.1.2\n",
      "wheel                   0.37.1\n",
      "whichcraft              0.6.1\n",
      "wincertstore            0.2\n",
      "wrapt                   1.12.1\n",
      "zipp                    3.8.0\n",
      "zope.event              4.5.0\n",
      "zope.interface          5.4.0\n",
      "Note: you may need to restart the kernel to use updated packages.\n"
     ]
    }
   ],
   "source": [
    "pip list"
   ]
  },
  {
   "cell_type": "markdown",
   "id": "01ec0df9-9a21-48f3-a765-7a4e51d78505",
   "metadata": {},
   "source": [
    "# Excel"
   ]
  },
  {
   "cell_type": "code",
   "execution_count": 15,
   "id": "ecb2a7f6-45a1-42ac-a9d1-5494b2354bcc",
   "metadata": {},
   "outputs": [
    {
     "name": "stdout",
     "output_type": "stream",
     "text": [
      "Collecting openpyxl\n",
      "  Downloading openpyxl-3.0.9-py2.py3-none-any.whl (242 kB)\n",
      "     ------------------------------------ 242.2/242.2 kB 156.3 kB/s eta 0:00:00\n",
      "Collecting et-xmlfile\n",
      "  Downloading et_xmlfile-1.1.0-py3-none-any.whl (4.7 kB)\n",
      "Installing collected packages: et-xmlfile, openpyxl\n",
      "Successfully installed et-xmlfile-1.1.0 openpyxl-3.0.9\n"
     ]
    }
   ],
   "source": [
    "!pip install openpyxl"
   ]
  },
  {
   "cell_type": "code",
   "execution_count": null,
   "id": "f1e4fbea-97db-4062-9b67-326bae2768d4",
   "metadata": {},
   "outputs": [],
   "source": []
  }
 ],
 "metadata": {
  "kernelspec": {
   "display_name": "ver7irve",
   "language": "python",
   "name": "ver7irve"
  },
  "language_info": {
   "codemirror_mode": {
    "name": "ipython",
    "version": 3
   },
   "file_extension": ".py",
   "mimetype": "text/x-python",
   "name": "python",
   "nbconvert_exporter": "python",
   "pygments_lexer": "ipython3",
   "version": "3.8.0"
  }
 },
 "nbformat": 4,
 "nbformat_minor": 5
}
